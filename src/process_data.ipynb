{
 "cells": [
  {
   "cell_type": "code",
   "execution_count": null,
   "metadata": {},
   "outputs": [],
   "source": [
    "import json,random\n",
    "path=\"../data/dpo_data/generated_data.jsonl\" # Generated training data\n",
    "with open(path,\"r\")as fin:\n",
    "    data=[json.loads(i) for i in fin]\n",
    "random.shuffle(data)\n",
    "exist_ids=[]\n",
    "dup_data=[]\n",
    "for d in data:\n",
    "    if d[\"id\"] not in exist_ids:\n",
    "        dup_data.append(d)\n",
    "        exist_ids.append(d[\"id\"])\n",
    "print(len(data),len(dup_data))"
   ]
  },
  {
   "cell_type": "code",
   "execution_count": null,
   "metadata": {},
   "outputs": [],
   "source": [
    "import json\n",
    "chosen_t,chosen_f=[],[]\n",
    "for d in dup_data:\n",
    "    if \"true\" in d[\"chosen\"].lower():\n",
    "        chosen_t.append(d)\n",
    "    elif \"false\" in d[\"chosen\"].lower():\n",
    "        chosen_f.append(d)\n",
    "print(len(chosen_t),len(chosen_f))"
   ]
  },
  {
   "cell_type": "code",
   "execution_count": 17,
   "metadata": {},
   "outputs": [],
   "source": [
    "chosen_t_num=3000\n",
    "chosen_f_num=1000\n",
    "save_path=f\"../data/dpo_data/train/glm-chosen_t-{chosen_t_num}-chosen_f-{chosen_f_num}.json\"\n",
    "save=chosen_t[:chosen_t_num]+chosen_f[:chosen_f_num]\n",
    "random.shuffle(save)\n",
    "for i,d in enumerate(save):\n",
    "    d[\"id\"]=i\n",
    "    d.pop(\"raw_question\")\n",
    "with open(save_path,\"w\")as fout:\n",
    "    json.dump(save,fout)"
   ]
  }
 ],
 "metadata": {
  "kernelspec": {
   "display_name": "p2",
   "language": "python",
   "name": "python3"
  },
  "language_info": {
   "codemirror_mode": {
    "name": "ipython",
    "version": 3
   },
   "file_extension": ".py",
   "mimetype": "text/x-python",
   "name": "python",
   "nbconvert_exporter": "python",
   "pygments_lexer": "ipython3",
   "version": "3.10.16"
  }
 },
 "nbformat": 4,
 "nbformat_minor": 2
}
